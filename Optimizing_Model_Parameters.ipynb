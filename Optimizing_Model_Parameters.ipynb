{
  "nbformat": 4,
  "nbformat_minor": 0,
  "metadata": {
    "colab": {
      "provenance": [],
      "gpuType": "T4",
      "authorship_tag": "ABX9TyM1w9nfYCUzS19iqcXgjgT6",
      "include_colab_link": true
    },
    "kernelspec": {
      "name": "python3",
      "display_name": "Python 3"
    },
    "language_info": {
      "name": "python"
    },
    "accelerator": "GPU"
  },
  "cells": [
    {
      "cell_type": "markdown",
      "metadata": {
        "id": "view-in-github",
        "colab_type": "text"
      },
      "source": [
        "<a href=\"https://colab.research.google.com/github/file00/PyTorch/blob/main/Optimizing_Model_Parameters.ipynb\" target=\"_parent\"><img src=\"https://colab.research.google.com/assets/colab-badge.svg\" alt=\"Open In Colab\"/></a>"
      ]
    },
    {
      "cell_type": "markdown",
      "source": [
        "## Optimizing Model Parameters\n",
        "\n",
        "*   Detailed Theoretical Explanation: https://pytorch.org/tutorials/beginner/basics/optimization_tutorial.html"
      ],
      "metadata": {
        "id": "3fkxtkA4pecZ"
      }
    },
    {
      "cell_type": "markdown",
      "source": [
        "### Prerequisite Code"
      ],
      "metadata": {
        "id": "lTDoAFs-yrwq"
      }
    },
    {
      "cell_type": "code",
      "source": [
        "import torch\n",
        "from torch import nn\n",
        "from torch.utils.data import DataLoader\n",
        "from torchvision import datasets\n",
        "from torchvision.transforms import ToTensor\n",
        "\n",
        "training_data = datasets.FashionMNIST(\n",
        "    root=\"data\",\n",
        "    train=True,\n",
        "    download=True,\n",
        "    transform=ToTensor()\n",
        ")\n",
        "\n",
        "test_data = datasets.FashionMNIST(\n",
        "    root=\"data\",\n",
        "    train=False,\n",
        "    download=True,\n",
        "    transform=ToTensor()\n",
        ")\n",
        "\n",
        "train_dataloader = DataLoader(training_data, batch_size=64)\n",
        "test_dataloader = DataLoader(test_data, batch_size=64)\n",
        "\n",
        "class NeuralNetwork(nn.Module):\n",
        "    def __init__(self):\n",
        "        super().__init__()\n",
        "        self.flatten = nn.Flatten()\n",
        "        self.linear_relu_stack = nn.Sequential(\n",
        "            nn.Linear(28*28, 512),\n",
        "            nn.ReLU(),\n",
        "            nn.Linear(512, 512),\n",
        "            nn.ReLU(),\n",
        "            nn.Linear(512, 10),\n",
        "        )\n",
        "\n",
        "    def forward(self, x):\n",
        "        x = self.flatten(x)\n",
        "        logits = self.linear_relu_stack(x)\n",
        "        return logits\n",
        "\n",
        "model = NeuralNetwork()"
      ],
      "metadata": {
        "id": "7fqYzGgz4su4",
        "colab": {
          "base_uri": "https://localhost:8080/"
        },
        "outputId": "5fc87754-4ce2-4986-d7ac-f8da53f840a3"
      },
      "execution_count": 1,
      "outputs": [
        {
          "output_type": "stream",
          "name": "stdout",
          "text": [
            "Downloading http://fashion-mnist.s3-website.eu-central-1.amazonaws.com/train-images-idx3-ubyte.gz\n",
            "Downloading http://fashion-mnist.s3-website.eu-central-1.amazonaws.com/train-images-idx3-ubyte.gz to data/FashionMNIST/raw/train-images-idx3-ubyte.gz\n"
          ]
        },
        {
          "output_type": "stream",
          "name": "stderr",
          "text": [
            "100%|██████████| 26421880/26421880 [00:00<00:00, 90235811.14it/s]\n"
          ]
        },
        {
          "output_type": "stream",
          "name": "stdout",
          "text": [
            "Extracting data/FashionMNIST/raw/train-images-idx3-ubyte.gz to data/FashionMNIST/raw\n",
            "\n",
            "Downloading http://fashion-mnist.s3-website.eu-central-1.amazonaws.com/train-labels-idx1-ubyte.gz\n",
            "Downloading http://fashion-mnist.s3-website.eu-central-1.amazonaws.com/train-labels-idx1-ubyte.gz to data/FashionMNIST/raw/train-labels-idx1-ubyte.gz\n"
          ]
        },
        {
          "output_type": "stream",
          "name": "stderr",
          "text": [
            "100%|██████████| 29515/29515 [00:00<00:00, 5327719.17it/s]"
          ]
        },
        {
          "output_type": "stream",
          "name": "stdout",
          "text": [
            "Extracting data/FashionMNIST/raw/train-labels-idx1-ubyte.gz to data/FashionMNIST/raw\n",
            "\n",
            "Downloading http://fashion-mnist.s3-website.eu-central-1.amazonaws.com/t10k-images-idx3-ubyte.gz\n",
            "Downloading http://fashion-mnist.s3-website.eu-central-1.amazonaws.com/t10k-images-idx3-ubyte.gz to data/FashionMNIST/raw/t10k-images-idx3-ubyte.gz\n"
          ]
        },
        {
          "output_type": "stream",
          "name": "stderr",
          "text": [
            "\n",
            "100%|██████████| 4422102/4422102 [00:00<00:00, 51288004.57it/s]\n"
          ]
        },
        {
          "output_type": "stream",
          "name": "stdout",
          "text": [
            "Extracting data/FashionMNIST/raw/t10k-images-idx3-ubyte.gz to data/FashionMNIST/raw\n",
            "\n",
            "Downloading http://fashion-mnist.s3-website.eu-central-1.amazonaws.com/t10k-labels-idx1-ubyte.gz\n",
            "Downloading http://fashion-mnist.s3-website.eu-central-1.amazonaws.com/t10k-labels-idx1-ubyte.gz to data/FashionMNIST/raw/t10k-labels-idx1-ubyte.gz\n"
          ]
        },
        {
          "output_type": "stream",
          "name": "stderr",
          "text": [
            "100%|██████████| 5148/5148 [00:00<00:00, 23068672.00it/s]\n"
          ]
        },
        {
          "output_type": "stream",
          "name": "stdout",
          "text": [
            "Extracting data/FashionMNIST/raw/t10k-labels-idx1-ubyte.gz to data/FashionMNIST/raw\n",
            "\n"
          ]
        }
      ]
    },
    {
      "cell_type": "markdown",
      "source": [
        "### Hyperparameters"
      ],
      "metadata": {
        "id": "MjBCQx-kph-t"
      }
    },
    {
      "cell_type": "code",
      "source": [
        "learning_rate = 1e-3\n",
        "batch_size = 64\n",
        "epochs = 5"
      ],
      "metadata": {
        "id": "cItTcsyLBCcb"
      },
      "execution_count": 2,
      "outputs": []
    },
    {
      "cell_type": "markdown",
      "source": [
        "### Optimization Loop"
      ],
      "metadata": {
        "id": "yyvfcmmh91is"
      }
    },
    {
      "cell_type": "markdown",
      "source": [
        "### Loss Function"
      ],
      "metadata": {
        "id": "OPNtmBIAy-Y9"
      }
    },
    {
      "cell_type": "code",
      "source": [
        "# Initialize the loss function\n",
        "loss_fn = nn.CrossEntropyLoss()"
      ],
      "metadata": {
        "id": "NJpeek7C20H7"
      },
      "execution_count": 3,
      "outputs": []
    },
    {
      "cell_type": "markdown",
      "source": [
        "### Optimizer"
      ],
      "metadata": {
        "id": "KPHTVT1GBK3E"
      }
    },
    {
      "cell_type": "code",
      "source": [
        "optimizer = torch.optim.SGD(model.parameters(), lr=learning_rate)"
      ],
      "metadata": {
        "id": "b87wq1PtBIc7"
      },
      "execution_count": 4,
      "outputs": []
    },
    {
      "cell_type": "markdown",
      "source": [
        "### Full Implementation"
      ],
      "metadata": {
        "id": "U-AjeoQHBPwz"
      }
    },
    {
      "cell_type": "code",
      "source": [
        "def train_loop(dataloader, model, loss_fn, optimizer):\n",
        "    size = len(dataloader.dataset)\n",
        "    # Set the model to training mode - important for batch normalization and dropout layers\n",
        "    # Unnecessary in this situation but added for best practices\n",
        "    model.train()\n",
        "    for batch, (X, y) in enumerate(dataloader):\n",
        "        # Compute prediction and loss\n",
        "        pred = model(X)\n",
        "        loss = loss_fn(pred, y)\n",
        "\n",
        "        # Backpropagation\n",
        "        loss.backward()\n",
        "        optimizer.step()\n",
        "        optimizer.zero_grad()\n",
        "\n",
        "        if batch % 100 == 0:\n",
        "            loss, current = loss.item(), batch * batch_size + len(X)\n",
        "            print(f\"loss: {loss:>7f}  [{current:>5d}/{size:>5d}]\")\n",
        "\n",
        "\n",
        "def test_loop(dataloader, model, loss_fn):\n",
        "    # Set the model to evaluation mode - important for batch normalization and dropout layers\n",
        "    # Unnecessary in this situation but added for best practices\n",
        "    model.eval()\n",
        "    size = len(dataloader.dataset)\n",
        "    num_batches = len(dataloader)\n",
        "    test_loss, correct = 0, 0\n",
        "\n",
        "    # Evaluating the model with torch.no_grad() ensures that no gradients are computed during test mode\n",
        "    # also serves to reduce unnecessary gradient computations and memory usage for tensors with requires_grad=True\n",
        "    with torch.no_grad():\n",
        "        for X, y in dataloader:\n",
        "            pred = model(X)\n",
        "            test_loss += loss_fn(pred, y).item()\n",
        "            correct += (pred.argmax(1) == y).type(torch.float).sum().item()\n",
        "\n",
        "    test_loss /= num_batches\n",
        "    correct /= size\n",
        "    print(f\"Test Error: \\n Accuracy: {(100*correct):>0.1f}%, Avg loss: {test_loss:>8f} \\n\")"
      ],
      "metadata": {
        "id": "WwWRo7mqBNNK"
      },
      "execution_count": 5,
      "outputs": []
    },
    {
      "cell_type": "code",
      "source": [
        "loss_fn = nn.CrossEntropyLoss()\n",
        "optimizer = torch.optim.SGD(model.parameters(), lr=learning_rate)\n",
        "\n",
        "epochs = 10\n",
        "for t in range(epochs):\n",
        "    print(f\"Epoch {t+1}\\n-------------------------------\")\n",
        "    train_loop(train_dataloader, model, loss_fn, optimizer)\n",
        "    test_loop(test_dataloader, model, loss_fn)\n",
        "print(\"Done!\")"
      ],
      "metadata": {
        "colab": {
          "base_uri": "https://localhost:8080/"
        },
        "id": "mLTAPSmPzopT",
        "outputId": "175b2f32-2eb2-4ec7-e266-a037ecc0a244"
      },
      "execution_count": 6,
      "outputs": [
        {
          "output_type": "stream",
          "name": "stdout",
          "text": [
            "Epoch 1\n",
            "-------------------------------\n",
            "loss: 2.302786  [   64/60000]\n",
            "loss: 2.290633  [ 6464/60000]\n",
            "loss: 2.272354  [12864/60000]\n",
            "loss: 2.263737  [19264/60000]\n",
            "loss: 2.250639  [25664/60000]\n",
            "loss: 2.210253  [32064/60000]\n",
            "loss: 2.222236  [38464/60000]\n",
            "loss: 2.190889  [44864/60000]\n",
            "loss: 2.187336  [51264/60000]\n",
            "loss: 2.142296  [57664/60000]\n",
            "Test Error: \n",
            " Accuracy: 48.9%, Avg loss: 2.143976 \n",
            "\n",
            "Epoch 2\n",
            "-------------------------------\n",
            "loss: 2.159092  [   64/60000]\n",
            "loss: 2.142565  [ 6464/60000]\n",
            "loss: 2.089532  [12864/60000]\n",
            "loss: 2.104385  [19264/60000]\n",
            "loss: 2.050816  [25664/60000]\n",
            "loss: 1.988085  [32064/60000]\n",
            "loss: 2.015384  [38464/60000]\n",
            "loss: 1.941094  [44864/60000]\n",
            "loss: 1.944069  [51264/60000]\n",
            "loss: 1.858156  [57664/60000]\n",
            "Test Error: \n",
            " Accuracy: 60.1%, Avg loss: 1.862945 \n",
            "\n",
            "Epoch 3\n",
            "-------------------------------\n",
            "loss: 1.900129  [   64/60000]\n",
            "loss: 1.859802  [ 6464/60000]\n",
            "loss: 1.750313  [12864/60000]\n",
            "loss: 1.790997  [19264/60000]\n",
            "loss: 1.674440  [25664/60000]\n",
            "loss: 1.629329  [32064/60000]\n",
            "loss: 1.648800  [38464/60000]\n",
            "loss: 1.558259  [44864/60000]\n",
            "loss: 1.577851  [51264/60000]\n",
            "loss: 1.464488  [57664/60000]\n",
            "Test Error: \n",
            " Accuracy: 62.5%, Avg loss: 1.488009 \n",
            "\n",
            "Epoch 4\n",
            "-------------------------------\n",
            "loss: 1.556609  [   64/60000]\n",
            "loss: 1.514816  [ 6464/60000]\n",
            "loss: 1.371816  [12864/60000]\n",
            "loss: 1.447078  [19264/60000]\n",
            "loss: 1.325450  [25664/60000]\n",
            "loss: 1.324107  [32064/60000]\n",
            "loss: 1.341253  [38464/60000]\n",
            "loss: 1.273144  [44864/60000]\n",
            "loss: 1.304391  [51264/60000]\n",
            "loss: 1.202700  [57664/60000]\n",
            "Test Error: \n",
            " Accuracy: 64.1%, Avg loss: 1.227711 \n",
            "\n",
            "Epoch 5\n",
            "-------------------------------\n",
            "loss: 1.306365  [   64/60000]\n",
            "loss: 1.280616  [ 6464/60000]\n",
            "loss: 1.121636  [12864/60000]\n",
            "loss: 1.230181  [19264/60000]\n",
            "loss: 1.105423  [25664/60000]\n",
            "loss: 1.129721  [32064/60000]\n",
            "loss: 1.158303  [38464/60000]\n",
            "loss: 1.100067  [44864/60000]\n",
            "loss: 1.138395  [51264/60000]\n",
            "loss: 1.052429  [57664/60000]\n",
            "Test Error: \n",
            " Accuracy: 65.3%, Avg loss: 1.069108 \n",
            "\n",
            "Epoch 6\n",
            "-------------------------------\n",
            "loss: 1.142333  [   64/60000]\n",
            "loss: 1.136362  [ 6464/60000]\n",
            "loss: 0.960800  [12864/60000]\n",
            "loss: 1.095309  [19264/60000]\n",
            "loss: 0.970700  [25664/60000]\n",
            "loss: 0.999612  [32064/60000]\n",
            "loss: 1.045622  [38464/60000]\n",
            "loss: 0.990887  [44864/60000]\n",
            "loss: 1.031047  [51264/60000]\n",
            "loss: 0.959229  [57664/60000]\n",
            "Test Error: \n",
            " Accuracy: 66.3%, Avg loss: 0.967157 \n",
            "\n",
            "Epoch 7\n",
            "-------------------------------\n",
            "loss: 1.028246  [   64/60000]\n",
            "loss: 1.043483  [ 6464/60000]\n",
            "loss: 0.851233  [12864/60000]\n",
            "loss: 1.005518  [19264/60000]\n",
            "loss: 0.885004  [25664/60000]\n",
            "loss: 0.907857  [32064/60000]\n",
            "loss: 0.971375  [38464/60000]\n",
            "loss: 0.920193  [44864/60000]\n",
            "loss: 0.956765  [51264/60000]\n",
            "loss: 0.896724  [57664/60000]\n",
            "Test Error: \n",
            " Accuracy: 67.8%, Avg loss: 0.897466 \n",
            "\n",
            "Epoch 8\n",
            "-------------------------------\n",
            "loss: 0.944070  [   64/60000]\n",
            "loss: 0.978616  [ 6464/60000]\n",
            "loss: 0.772040  [12864/60000]\n",
            "loss: 0.941848  [19264/60000]\n",
            "loss: 0.827209  [25664/60000]\n",
            "loss: 0.840413  [32064/60000]\n",
            "loss: 0.918629  [38464/60000]\n",
            "loss: 0.872795  [44864/60000]\n",
            "loss: 0.903644  [51264/60000]\n",
            "loss: 0.851276  [57664/60000]\n",
            "Test Error: \n",
            " Accuracy: 69.1%, Avg loss: 0.847010 \n",
            "\n",
            "Epoch 9\n",
            "-------------------------------\n",
            "loss: 0.878991  [   64/60000]\n",
            "loss: 0.929496  [ 6464/60000]\n",
            "loss: 0.712351  [12864/60000]\n",
            "loss: 0.894381  [19264/60000]\n",
            "loss: 0.785640  [25664/60000]\n",
            "loss: 0.789583  [32064/60000]\n",
            "loss: 0.878089  [38464/60000]\n",
            "loss: 0.839405  [44864/60000]\n",
            "loss: 0.863896  [51264/60000]\n",
            "loss: 0.816140  [57664/60000]\n",
            "Test Error: \n",
            " Accuracy: 70.3%, Avg loss: 0.808537 \n",
            "\n",
            "Epoch 10\n",
            "-------------------------------\n",
            "loss: 0.826548  [   64/60000]\n",
            "loss: 0.890001  [ 6464/60000]\n",
            "loss: 0.665571  [12864/60000]\n",
            "loss: 0.857460  [19264/60000]\n",
            "loss: 0.753935  [25664/60000]\n",
            "loss: 0.750508  [32064/60000]\n",
            "loss: 0.845004  [38464/60000]\n",
            "loss: 0.814590  [44864/60000]\n",
            "loss: 0.833018  [51264/60000]\n",
            "loss: 0.787518  [57664/60000]\n",
            "Test Error: \n",
            " Accuracy: 71.4%, Avg loss: 0.777827 \n",
            "\n",
            "Done!\n"
          ]
        }
      ]
    }
  ]
}