{
  "nbformat": 4,
  "nbformat_minor": 0,
  "metadata": {
    "colab": {
      "provenance": [],
      "authorship_tag": "ABX9TyPVO7d1qFO66DSiDesae7fD",
      "include_colab_link": true
    },
    "kernelspec": {
      "name": "python3",
      "display_name": "Python 3"
    },
    "language_info": {
      "name": "python"
    }
  },
  "cells": [
    {
      "cell_type": "markdown",
      "metadata": {
        "id": "view-in-github",
        "colab_type": "text"
      },
      "source": [
        "<a href=\"https://colab.research.google.com/github/file00/PyTorch/blob/main/PyTorch.ipynb\" target=\"_parent\"><img src=\"https://colab.research.google.com/assets/colab-badge.svg\" alt=\"Open In Colab\"/></a>"
      ]
    },
    {
      "cell_type": "markdown",
      "source": [
        "# PyTorch\n"
      ],
      "metadata": {
        "id": "3fkxtkA4pecZ"
      }
    },
    {
      "cell_type": "markdown",
      "source": [
        "## Tensor\n",
        "        Numpy Library의 ndarray Class와 유사한 구조로 Array or Matrix와 유사한 자료 구조(자료형)\n",
        "        PyTorch에서는 Model의 Input/Output뿐만 아니라 Model의 매개변수를 Encode하고 GPU를 활용해 연산 가속화 가능\n",
        "        torch.tensor() or torch.Tensor()로 생성할 수 있음  \n",
        "            - torch.tensor()는 Input된 Data를 Copy 해 Tensor로 변환하는 함수임\n",
        "            -> Data를 Copy 하므로 Value가 무조건 있어야 하며, Input 된 Data의 Type에 맞는 가장 적합한 Tensor 자료형으로 변환함.\n",
        "            (비어있는 구조로 생성되지 않고 자동으로 자료형을 할당하기 때문에 의도치 않은 자료형으로 변경될 수 있으니, 사용에 주의 필요로 함)\n",
        "            - torch.Tensor(): Tensor Instance를 생성하는 Tensor의 기본형 Class\n",
        "            -> Instance를 생성하기 때문에 Value를 Input 하지 않은 경우 빈 Tensor를 생성함.\n",
        "            (가급적 자료형이 명확하게 표현되는 Class 형태의 torch.Tensor()를 사용하는 것을 권장함)\n"
      ],
      "metadata": {
        "id": "Tq46rd0yyelO"
      }
    },
    {
      "cell_type": "code",
      "source": [
        "import torch\n",
        "\n",
        "print(torch.tensor([1,2,3]))\n",
        "print(torch.Tensor([[1,2,3],[4,5,6]]))\n",
        "print(torch.LongTensor([1,2,3]))\n",
        "print(torch.FloatTensor([1,2,3]))"
      ],
      "metadata": {
        "colab": {
          "base_uri": "https://localhost:8080/"
        },
        "id": "7fqYzGgz4su4",
        "outputId": "0afb1530-6de9-4a90-8d26-057925ce80ab"
      },
      "execution_count": null,
      "outputs": [
        {
          "output_type": "stream",
          "name": "stdout",
          "text": [
            "tensor([1, 2, 3])\n",
            "tensor([[1., 2., 3.],\n",
            "        [4., 5., 6.]])\n",
            "tensor([1, 2, 3])\n",
            "tensor([1., 2., 3.])\n"
          ]
        }
      ]
    },
    {
      "cell_type": "markdown",
      "source": [
        "### Attribute of Tensor"
      ],
      "metadata": {
        "id": "MjBCQx-kph-t"
      }
    },
    {
      "cell_type": "code",
      "source": [
        "tensor = torch.rand(1,2)\n",
        "print(tensor)\n",
        "print(tensor.shape)\n",
        "print(tensor.dtype)\n",
        "print(tensor.device)"
      ],
      "metadata": {
        "colab": {
          "base_uri": "https://localhost:8080/"
        },
        "id": "iP5ozNgY1qjX",
        "outputId": "fb145a0f-79c1-4b34-a4b3-104335bb4dd1"
      },
      "execution_count": null,
      "outputs": [
        {
          "output_type": "stream",
          "name": "stdout",
          "text": [
            "tensor([[0.1905, 0.1473]])\n",
            "torch.Size([1, 2])\n",
            "torch.float32\n",
            "cpu\n"
          ]
        }
      ]
    },
    {
      "cell_type": "markdown",
      "source": [
        "### Dimension Transformation\n",
        "\n"
      ],
      "metadata": {
        "id": "T9U4CEjjqh_Z"
      }
    },
    {
      "cell_type": "code",
      "source": [
        "tensor = torch.rand(1,2)\n",
        "print(tensor)\n",
        "print(tensor.shape)\n",
        "\n",
        "tensor = tensor.reshape(2,1)\n",
        "print(tensor)\n",
        "print(tensor.shape)"
      ],
      "metadata": {
        "colab": {
          "base_uri": "https://localhost:8080/"
        },
        "id": "NJpeek7C20H7",
        "outputId": "059720a2-14c6-4178-f642-2cf626533b71"
      },
      "execution_count": null,
      "outputs": [
        {
          "output_type": "stream",
          "name": "stdout",
          "text": [
            "tensor([[0.4679, 0.0895]])\n",
            "torch.Size([1, 2])\n",
            "tensor([[0.4679],\n",
            "        [0.0895]])\n",
            "torch.Size([2, 1])\n"
          ]
        }
      ]
    },
    {
      "cell_type": "markdown",
      "source": [
        "# Deep Learning"
      ],
      "metadata": {
        "id": "n7gRhNJQx-uR"
      }
    },
    {
      "cell_type": "markdown",
      "source": [
        "## What is Deep Learning??\n",
        "    - AI, Machine Learning(ML) and Deep Learning?\n",
        "    - AI: 사람의 일을 기계가 대신 해주는 것(Programmer가 작성하는 간단한 Algorithm도 여기에 해당한다.)\n",
        "    - Machine Learning: 정해진 규칙없이 Data로 부터 학습을 하고, 스스로 규칙을 찾아내는 AI의 한 분야\n",
        "    - Deep Learning: Artificial Neural Network를 기반으로 Data를 학습하고, 규칙을 찾아내고 판단하는 ML의 한 분야\n",
        "\n",
        "### Machine Learning의 분류: Supervised Learning vs Unsupervised Learning\n",
        "    - Supervised Learning: Label된 Data로 학습\n",
        "                           미래 Data 예측\n",
        "                           y = f(x)\n",
        "                           -> Classification Ex) MNIST 필기체 인식 and 스팸 Mail 분류 etc..\n",
        "                           -> Regression Ex) 주가 예측\n",
        "\n",
        "    - Unsupervised Learning: Label없이 학습\n",
        "                             Data의 숨겨진 구조/특징 발견\n",
        "                             x ~ p(x), x = f(x)\n",
        "                             -> Clustering Ex) 마케팅 고객 그룹화\n",
        "\n",
        "    - Reinforcement Learning: 보상 System으로 학습\n",
        "                              의사결정을 위한 최적의 Action 선택\n",
        "            "
      ],
      "metadata": {
        "id": "X1puhi-VyAt8"
      }
    },
    {
      "cell_type": "markdown",
      "source": [
        "## Classification of ML\n",
        "\n",
        "### ML Algorithm\n",
        "            - Supervised Learning -> Target variable present\n",
        "                - Classification\n",
        "                - Estimation\n",
        "            - Unsupervised Learning -> No target variable\n",
        "                - Dimension Reduction\n",
        "                - Clustering\n",
        "                - Association Rule\n",
        "        -> 여러가지 ML Modeling 방식들 중 Deep Neural Network 를 이용한 방식 = Deep Learning"
      ],
      "metadata": {
        "id": "0BaPlsv81m7G"
      }
    },
    {
      "cell_type": "code",
      "execution_count": null,
      "metadata": {
        "id": "43sDUAolokR0"
      },
      "outputs": [],
      "source": []
    },
    {
      "cell_type": "markdown",
      "source": [],
      "metadata": {
        "id": "zow7b1kbsArA"
      }
    },
    {
      "cell_type": "markdown",
      "source": [],
      "metadata": {
        "id": "iUYvPPvXsAtU"
      }
    },
    {
      "cell_type": "markdown",
      "source": [],
      "metadata": {
        "id": "eRiqb_bwsAvo"
      }
    }
  ]
}