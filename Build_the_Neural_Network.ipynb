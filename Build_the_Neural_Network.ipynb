{
  "nbformat": 4,
  "nbformat_minor": 0,
  "metadata": {
    "colab": {
      "provenance": [],
      "gpuType": "T4",
      "authorship_tag": "ABX9TyP4M2+yh70AYRgrInCbGhAz",
      "include_colab_link": true
    },
    "kernelspec": {
      "name": "python3",
      "display_name": "Python 3"
    },
    "language_info": {
      "name": "python"
    },
    "accelerator": "GPU"
  },
  "cells": [
    {
      "cell_type": "markdown",
      "metadata": {
        "id": "view-in-github",
        "colab_type": "text"
      },
      "source": [
        "<a href=\"https://colab.research.google.com/github/file00/PyTorch/blob/main/Build_the_Neural_Network.ipynb\" target=\"_parent\"><img src=\"https://colab.research.google.com/assets/colab-badge.svg\" alt=\"Open In Colab\"/></a>"
      ]
    },
    {
      "cell_type": "markdown",
      "source": [
        "## Build the Neural Network\n",
        "\n",
        "*   Detailed Theoretical Explanation: https://pytorch.org/tutorials/beginner/basics/buildmodel_tutorial.html\n",
        "\n"
      ],
      "metadata": {
        "id": "3fkxtkA4pecZ"
      }
    },
    {
      "cell_type": "code",
      "source": [
        "import os\n",
        "import torch\n",
        "from torch import nn\n",
        "from torch.utils.data import DataLoader\n",
        "from torchvision import datasets, transforms"
      ],
      "metadata": {
        "id": "7fqYzGgz4su4"
      },
      "execution_count": 3,
      "outputs": []
    },
    {
      "cell_type": "markdown",
      "source": [
        "### Get Device for Training"
      ],
      "metadata": {
        "id": "MjBCQx-kph-t"
      }
    },
    {
      "cell_type": "code",
      "source": [
        "device = (\n",
        "    \"cuda\"\n",
        "    if torch.cuda.is_available()\n",
        "    else \"mps\"\n",
        "    if torch.backends.mps.is_available()\n",
        "    else \"cpu\"\n",
        ")\n",
        "print(f\"Using {device} device\")"
      ],
      "metadata": {
        "colab": {
          "base_uri": "https://localhost:8080/"
        },
        "id": "0CeY4KkT-nPE",
        "outputId": "0e8cc46f-d35d-402d-fd56-f2c5e7e29f87"
      },
      "execution_count": 4,
      "outputs": [
        {
          "output_type": "stream",
          "name": "stdout",
          "text": [
            "Using cuda device\n"
          ]
        }
      ]
    },
    {
      "cell_type": "markdown",
      "source": [
        "### Define the Class"
      ],
      "metadata": {
        "id": "yyvfcmmh91is"
      }
    },
    {
      "cell_type": "code",
      "source": [
        "class NeuralNetwork(nn.Module):\n",
        "    def __init__(self):\n",
        "        super().__init__()\n",
        "        self.flatten = nn.Flatten()\n",
        "        self.linear_relu_stack = nn.Sequential(\n",
        "            nn.Linear(28*28, 512),\n",
        "            nn.ReLU(),\n",
        "            nn.Linear(512, 512),\n",
        "            nn.ReLU(),\n",
        "            nn.Linear(512, 10),\n",
        "        )\n",
        "\n",
        "    def forward(self, x):\n",
        "        x = self.flatten(x)\n",
        "        logits = self.linear_relu_stack(x)\n",
        "        return logits"
      ],
      "metadata": {
        "id": "NJpeek7C20H7"
      },
      "execution_count": 5,
      "outputs": []
    },
    {
      "cell_type": "code",
      "source": [
        "model = NeuralNetwork().to(device)\n",
        "print(model)"
      ],
      "metadata": {
        "colab": {
          "base_uri": "https://localhost:8080/"
        },
        "id": "qxzFpIle-tqM",
        "outputId": "c06320c3-847a-43d0-c018-9ab73c652ddb"
      },
      "execution_count": 6,
      "outputs": [
        {
          "output_type": "stream",
          "name": "stdout",
          "text": [
            "NeuralNetwork(\n",
            "  (flatten): Flatten(start_dim=1, end_dim=-1)\n",
            "  (linear_relu_stack): Sequential(\n",
            "    (0): Linear(in_features=784, out_features=512, bias=True)\n",
            "    (1): ReLU()\n",
            "    (2): Linear(in_features=512, out_features=512, bias=True)\n",
            "    (3): ReLU()\n",
            "    (4): Linear(in_features=512, out_features=10, bias=True)\n",
            "  )\n",
            ")\n"
          ]
        }
      ]
    },
    {
      "cell_type": "code",
      "source": [
        "X = torch.rand(1, 28, 28, device=device)\n",
        "logits = model(X)\n",
        "pred_probab = nn.Softmax(dim=1)(logits)\n",
        "y_pred = pred_probab.argmax(1)\n",
        "print(f\"Predicted class: {y_pred}\")"
      ],
      "metadata": {
        "colab": {
          "base_uri": "https://localhost:8080/"
        },
        "id": "yJQbTHDM-vPc",
        "outputId": "75f6bb1a-3ede-4359-fc5d-bd243257dc94"
      },
      "execution_count": 7,
      "outputs": [
        {
          "output_type": "stream",
          "name": "stdout",
          "text": [
            "Predicted class: tensor([6], device='cuda:0')\n"
          ]
        }
      ]
    },
    {
      "cell_type": "markdown",
      "source": [
        "### Model Layers"
      ],
      "metadata": {
        "id": "GV_VCOq6-0cN"
      }
    },
    {
      "cell_type": "code",
      "source": [
        "input_image = torch.rand(3,28,28)\n",
        "print(input_image.size())"
      ],
      "metadata": {
        "colab": {
          "base_uri": "https://localhost:8080/"
        },
        "id": "4BVlE3E4-yYc",
        "outputId": "723d17b8-8fad-4c35-e432-aca94ee96c36"
      },
      "execution_count": 8,
      "outputs": [
        {
          "output_type": "stream",
          "name": "stdout",
          "text": [
            "torch.Size([3, 28, 28])\n"
          ]
        }
      ]
    },
    {
      "cell_type": "markdown",
      "source": [
        "### nn.Flatten"
      ],
      "metadata": {
        "id": "3lnk7Zmy-6p9"
      }
    },
    {
      "cell_type": "code",
      "source": [
        "flatten = nn.Flatten()\n",
        "flat_image = flatten(input_image)\n",
        "print(flat_image.size())"
      ],
      "metadata": {
        "colab": {
          "base_uri": "https://localhost:8080/"
        },
        "id": "tYd7k8Ll-5nc",
        "outputId": "ccc77ff6-87f5-4327-9804-08a50b7cf7d3"
      },
      "execution_count": 9,
      "outputs": [
        {
          "output_type": "stream",
          "name": "stdout",
          "text": [
            "torch.Size([3, 784])\n"
          ]
        }
      ]
    },
    {
      "cell_type": "markdown",
      "source": [
        "### nn.Linear"
      ],
      "metadata": {
        "id": "8TuIhjIe_Ax9"
      }
    },
    {
      "cell_type": "code",
      "source": [
        "layer1 = nn.Linear(in_features=28*28, out_features=20)\n",
        "hidden1 = layer1(flat_image)\n",
        "print(hidden1.size())"
      ],
      "metadata": {
        "colab": {
          "base_uri": "https://localhost:8080/"
        },
        "id": "xZS6jgNY--XE",
        "outputId": "4271de95-6ad8-446d-b265-99f07edfbe63"
      },
      "execution_count": 10,
      "outputs": [
        {
          "output_type": "stream",
          "name": "stdout",
          "text": [
            "torch.Size([3, 20])\n"
          ]
        }
      ]
    },
    {
      "cell_type": "markdown",
      "source": [
        "### nn.ReLU"
      ],
      "metadata": {
        "id": "CGoehOSV_BwG"
      }
    },
    {
      "cell_type": "code",
      "source": [
        "print(f\"Before ReLU: {hidden1}\\n\\n\")\n",
        "hidden1 = nn.ReLU()(hidden1)\n",
        "print(f\"After ReLU: {hidden1}\")"
      ],
      "metadata": {
        "colab": {
          "base_uri": "https://localhost:8080/"
        },
        "id": "gk9J7m_I_B2u",
        "outputId": "85906fb3-7b4d-4972-ec1a-a364ee1291f8"
      },
      "execution_count": 11,
      "outputs": [
        {
          "output_type": "stream",
          "name": "stdout",
          "text": [
            "Before ReLU: tensor([[-3.6972e-01,  6.5451e-02,  9.9037e-03, -2.7679e-01,  1.1055e+00,\n",
            "          1.5258e-01, -2.3736e-01,  3.5200e-02,  2.1604e-01, -4.9710e-02,\n",
            "         -5.6658e-02, -3.8702e-01,  1.9344e-01,  5.2714e-02,  5.9662e-02,\n",
            "          4.6658e-01,  2.0901e-01,  3.8804e-01, -2.0181e-01, -7.2640e-01],\n",
            "        [-1.3390e-01,  5.2112e-01, -4.0684e-01, -4.1657e-02,  9.2852e-01,\n",
            "          4.9266e-02,  3.0386e-04, -2.8685e-01,  5.0021e-02,  9.4917e-02,\n",
            "         -5.6172e-02, -1.7039e-01,  1.6317e-01,  3.2853e-02,  2.5644e-01,\n",
            "          4.2645e-01,  9.5614e-03,  2.6696e-01,  1.5486e-01, -3.9145e-01],\n",
            "        [-1.1092e-01,  3.3908e-02, -2.3340e-01, -1.5419e-01,  1.2088e+00,\n",
            "          1.2818e-01, -2.0353e-01, -2.3526e-02,  3.0054e-01,  1.6733e-03,\n",
            "         -2.1356e-01,  1.0100e-01,  9.7013e-02,  9.1589e-02,  1.2992e-01,\n",
            "          4.7731e-01, -4.7147e-01,  4.3670e-02, -1.8405e-01, -4.6849e-01]],\n",
            "       grad_fn=<AddmmBackward0>)\n",
            "\n",
            "\n",
            "After ReLU: tensor([[0.0000e+00, 6.5451e-02, 9.9037e-03, 0.0000e+00, 1.1055e+00, 1.5258e-01,\n",
            "         0.0000e+00, 3.5200e-02, 2.1604e-01, 0.0000e+00, 0.0000e+00, 0.0000e+00,\n",
            "         1.9344e-01, 5.2714e-02, 5.9662e-02, 4.6658e-01, 2.0901e-01, 3.8804e-01,\n",
            "         0.0000e+00, 0.0000e+00],\n",
            "        [0.0000e+00, 5.2112e-01, 0.0000e+00, 0.0000e+00, 9.2852e-01, 4.9266e-02,\n",
            "         3.0386e-04, 0.0000e+00, 5.0021e-02, 9.4917e-02, 0.0000e+00, 0.0000e+00,\n",
            "         1.6317e-01, 3.2853e-02, 2.5644e-01, 4.2645e-01, 9.5614e-03, 2.6696e-01,\n",
            "         1.5486e-01, 0.0000e+00],\n",
            "        [0.0000e+00, 3.3908e-02, 0.0000e+00, 0.0000e+00, 1.2088e+00, 1.2818e-01,\n",
            "         0.0000e+00, 0.0000e+00, 3.0054e-01, 1.6733e-03, 0.0000e+00, 1.0100e-01,\n",
            "         9.7013e-02, 9.1589e-02, 1.2992e-01, 4.7731e-01, 0.0000e+00, 4.3670e-02,\n",
            "         0.0000e+00, 0.0000e+00]], grad_fn=<ReluBackward0>)\n"
          ]
        }
      ]
    },
    {
      "cell_type": "markdown",
      "source": [
        "### nn.Sequential"
      ],
      "metadata": {
        "id": "YgQ7mqZv_OsO"
      }
    },
    {
      "cell_type": "code",
      "source": [
        "seq_modules = nn.Sequential(\n",
        "    flatten,\n",
        "    layer1,\n",
        "    nn.ReLU(),\n",
        "    nn.Linear(20, 10)\n",
        ")\n",
        "input_image = torch.rand(3,28,28)\n",
        "logits = seq_modules(input_image)"
      ],
      "metadata": {
        "id": "FM3Nwa5M_L_T"
      },
      "execution_count": 12,
      "outputs": []
    },
    {
      "cell_type": "markdown",
      "source": [],
      "metadata": {
        "id": "6VNtrAlL_WJF"
      }
    },
    {
      "cell_type": "markdown",
      "source": [
        "### nn.Softmax"
      ],
      "metadata": {
        "id": "s1kvsv4K_WKH"
      }
    },
    {
      "cell_type": "code",
      "source": [
        "softmax = nn.Softmax(dim=1)\n",
        "pred_probab = softmax(logits)"
      ],
      "metadata": {
        "id": "cPZTSAqq_O2t"
      },
      "execution_count": 13,
      "outputs": []
    },
    {
      "cell_type": "markdown",
      "source": [
        "### Model Parameters"
      ],
      "metadata": {
        "id": "Gcg8JbX-_PCF"
      }
    },
    {
      "cell_type": "code",
      "source": [
        "print(f\"Model structure: {model}\\n\\n\")\n",
        "\n",
        "for name, param in model.named_parameters():\n",
        "    print(f\"Layer: {name} | Size: {param.size()} | Values : {param[:2]} \\n\")"
      ],
      "metadata": {
        "colab": {
          "base_uri": "https://localhost:8080/"
        },
        "id": "Nxynrfo-_PK0",
        "outputId": "7b0dd552-5171-45b5-af33-09c1cea0af7f"
      },
      "execution_count": 14,
      "outputs": [
        {
          "output_type": "stream",
          "name": "stdout",
          "text": [
            "Model structure: NeuralNetwork(\n",
            "  (flatten): Flatten(start_dim=1, end_dim=-1)\n",
            "  (linear_relu_stack): Sequential(\n",
            "    (0): Linear(in_features=784, out_features=512, bias=True)\n",
            "    (1): ReLU()\n",
            "    (2): Linear(in_features=512, out_features=512, bias=True)\n",
            "    (3): ReLU()\n",
            "    (4): Linear(in_features=512, out_features=10, bias=True)\n",
            "  )\n",
            ")\n",
            "\n",
            "\n",
            "Layer: linear_relu_stack.0.weight | Size: torch.Size([512, 784]) | Values : tensor([[-0.0062,  0.0216, -0.0217,  ..., -0.0055, -0.0235, -0.0042],\n",
            "        [-0.0018,  0.0231, -0.0035,  ..., -0.0147, -0.0020,  0.0336]],\n",
            "       device='cuda:0', grad_fn=<SliceBackward0>) \n",
            "\n",
            "Layer: linear_relu_stack.0.bias | Size: torch.Size([512]) | Values : tensor([-0.0145, -0.0199], device='cuda:0', grad_fn=<SliceBackward0>) \n",
            "\n",
            "Layer: linear_relu_stack.2.weight | Size: torch.Size([512, 512]) | Values : tensor([[ 0.0190, -0.0318,  0.0311,  ...,  0.0222, -0.0244,  0.0083],\n",
            "        [ 0.0382, -0.0364, -0.0109,  ...,  0.0399, -0.0360,  0.0137]],\n",
            "       device='cuda:0', grad_fn=<SliceBackward0>) \n",
            "\n",
            "Layer: linear_relu_stack.2.bias | Size: torch.Size([512]) | Values : tensor([-0.0399,  0.0018], device='cuda:0', grad_fn=<SliceBackward0>) \n",
            "\n",
            "Layer: linear_relu_stack.4.weight | Size: torch.Size([10, 512]) | Values : tensor([[-0.0086,  0.0172, -0.0123,  ...,  0.0232,  0.0026,  0.0213],\n",
            "        [-0.0350, -0.0246,  0.0004,  ..., -0.0092,  0.0057,  0.0422]],\n",
            "       device='cuda:0', grad_fn=<SliceBackward0>) \n",
            "\n",
            "Layer: linear_relu_stack.4.bias | Size: torch.Size([10]) | Values : tensor([0.0049, 0.0364], device='cuda:0', grad_fn=<SliceBackward0>) \n",
            "\n"
          ]
        }
      ]
    }
  ]
}